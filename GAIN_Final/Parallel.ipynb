{
 "cells": [
  {
   "cell_type": "code",
   "execution_count": null,
   "metadata": {
    "collapsed": true
   },
   "outputs": [],
   "source": [
    "\n",
    "import os\n",
    "import sys"
   ]
  },
  {
   "cell_type": "code",
   "execution_count": null,
   "outputs": [],
   "source": [
    "condapath = sys.executable\n",
    "print(condapath)\n",
    "\n",
    "scripts = [] \n",
    "for idx , i in enumerate(files) :\n",
    "    if idx % 2 == 0 :\n",
    "        gpu_n = 0\n",
    "    else : \n",
    "        gpu_n = 1\n",
    "    m = f\"{condapath} {os.getcwd()}/run.py --batch_size 500 --gpu {gpu_n} --filename {i}\" \n",
    "    print(m)\n",
    "    scripts.append(m)\n",
    "#scripts"
   ],
   "metadata": {
    "collapsed": false,
    "pycharm": {
     "name": "#%%\n"
    }
   }
  },
  {
   "cell_type": "code",
   "execution_count": null,
   "outputs": [],
   "source": [
    "import os , re , time \n",
    "import numpy as np \n",
    "from multiprocessing import Pool  \n",
    "def main(i) : \n",
    "    os.system(\"{}\".format(scripts[i]))\n",
    "if __name__ == '__main__': \n",
    "    pool = Pool(len(scripts)) \n",
    "    # pool = Pool()  would use the number of available processors instead \n",
    "    pool.map(main, \n",
    "             np.arange(len(scripts)).tolist()) \n",
    "    pool.close() \n",
    "    pool.join()\n",
    "    "
   ],
   "metadata": {
    "collapsed": false,
    "pycharm": {
     "name": "#%%\n"
    }
   }
  },
  {
   "cell_type": "code",
   "execution_count": 3,
   "outputs": [
    {
     "data": {
      "text/plain": "<Figure size 432x288 with 1 Axes>",
      "image/png": "[encoded data removed]"
     },
     "metadata": {
      "needs_background": "light"
     },
     "output_type": "display_data"
    }
   ],
   "source": [
    "import matplotlib.pyplot as plt\n",
    "plt.plot(range(100), range(100))\n",
    "plt.show()\n"
   ],
   "metadata": {
    "collapsed": false,
    "pycharm": {
     "name": "#%%\n",
     "is_executing": false
    }
   }
  }
 ],
 "metadata": {
  "kernelspec": {
   "display_name": "Python 3",
   "language": "python",
   "name": "python3"
  },
  "language_info": {
   "codemirror_mode": {
    "name": "ipython",
    "version": 2
   },
   "file_extension": ".py",
   "mimetype": "text/x-python",
   "name": "python",
   "nbconvert_exporter": "python",
   "pygments_lexer": "ipython2",
   "version": "2.7.6"
  },
  "pycharm": {
   "stem_cell": {
    "cell_type": "raw",
    "source": [],
    "metadata": {
     "collapsed": false
    }
   }
  }
 },
 "nbformat": 4,
 "nbformat_minor": 0
}