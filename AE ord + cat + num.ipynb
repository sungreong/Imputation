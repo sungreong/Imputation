{
 "cells": [
  {
   "cell_type": "code",
   "execution_count": null,
   "metadata": {},
   "outputs": [],
   "source": [
    "%load_ext autoreload\n",
    "%autoreload 2\n",
    "from IPython.display import clear_output\n",
    "import pandas as pd\n",
    "import tensorflow as tf\n",
    "from tqdm import tqdm , tqdm_notebook\n",
    "import numpy as np\n",
    "import category_encoders as ce\n",
    "import re\n",
    "from copy import deepcopy\n",
    "from Missing_Generate import Gene_Missing\n",
    "import matplotlib.pyplot as plt"
   ]
  },
  {
   "cell_type": "code",
   "execution_count": 2,
   "metadata": {},
   "outputs": [],
   "source": [
    "mb_size = 128\n",
    "# 2. Missing rate\n",
    "p_miss = 0.2\n",
    "# 3. Hint rate\n",
    "p_hint = 0.9\n",
    "# 4. Loss Hyperparameters\n",
    "alpha = 2\n",
    "# 5. Train Rate\n",
    "train_rate = 0.8\n",
    "RAW_ = pd.read_csv(\"/home/advice/Python/SR/Data/Churn.csv\")\n",
    "usecols = RAW_.columns.tolist()\n",
    "notuse = ['account length' , 'phone number']\n",
    "for col in notuse :\n",
    "    usecols.remove(col)"
   ]
  },
  {
   "cell_type": "code",
   "execution_count": 3,
   "metadata": {},
   "outputs": [],
   "source": [
    "RAW = RAW_[usecols]"
   ]
  },
  {
   "cell_type": "code",
   "execution_count": 4,
   "metadata": {},
   "outputs": [],
   "source": [
    "category = RAW.select_dtypes(\"object\").columns.tolist() + [\"area code\" , \"churn\"]"
   ]
  },
  {
   "cell_type": "code",
   "execution_count": 5,
   "metadata": {},
   "outputs": [
    {
     "name": "stderr",
     "output_type": "stream",
     "text": [
      "/root/anaconda3/lib/python3.6/site-packages/pandas/core/frame.py:3489: SettingWithCopyWarning: \n",
      "A value is trying to be set on a copy of a slice from a DataFrame.\n",
      "Try using .loc[row_indexer,col_indexer] = value instead\n",
      "\n",
      "See the caveats in the documentation: http://pandas.pydata.org/pandas-docs/stable/user_guide/indexing.html#returning-a-view-versus-a-copy\n",
      "  self[k1] = value[k2]\n"
     ]
    }
   ],
   "source": [
    "RAW[category] = RAW[category].astype(str)"
   ]
  },
  {
   "cell_type": "code",
   "execution_count": 6,
   "metadata": {},
   "outputs": [
    {
     "name": "stdout",
     "output_type": "stream",
     "text": [
      "['state', 'area code', 'international plan', 'voice mail plan', 'churn']\n"
     ]
    }
   ],
   "source": [
    "obj_col = RAW.select_dtypes(\"object\").columns.tolist()\n",
    "ord_col = RAW.select_dtypes(\"int\").columns.tolist()\n",
    "num_col = RAW.select_dtypes(\"float\").columns.tolist()\n",
    "print(obj_col)\n",
    "assert len(usecols) == len(obj_col + ord_col + num_col)"
   ]
  },
  {
   "cell_type": "code",
   "execution_count": 7,
   "metadata": {},
   "outputs": [],
   "source": [
    "from sklearn.preprocessing import MinMaxScaler\n",
    "minmax = MinMaxScaler()\n",
    "GMiss = Gene_Missing(RAW ,obj_col , ord_col , num_col , p_miss , minmax)"
   ]
  },
  {
   "cell_type": "code",
   "execution_count": 8,
   "metadata": {},
   "outputs": [],
   "source": [
    "missing_RAW = GMiss.generate(scale= True)"
   ]
  },
  {
   "cell_type": "code",
   "execution_count": 9,
   "metadata": {},
   "outputs": [
    {
     "name": "stdout",
     "output_type": "stream",
     "text": [
      "AE_missing_info.pkl missing 정보 저장 완료\n"
     ]
    }
   ],
   "source": [
    "GMiss.save_info(\"AE_missing_info.pkl\")\n",
    "missing_info = GMiss.load_info(\"AE_missing_info.pkl\")"
   ]
  },
  {
   "cell_type": "code",
   "execution_count": 10,
   "metadata": {},
   "outputs": [
    {
     "data": {
      "text/plain": [
       "['scaler',\n",
       " 'missing_matrix',\n",
       " 'columns',\n",
       " 'ce_encoder',\n",
       " 'cat2ord',\n",
       " '(ord+1)2cat',\n",
       " 'obj_info',\n",
       " 'obj_range',\n",
       " 'cat_num_idx_info']"
      ]
     },
     "execution_count": 10,
     "metadata": {},
     "output_type": "execute_result"
    }
   ],
   "source": [
    "list(missing_info.keys())"
   ]
  },
  {
   "cell_type": "code",
   "execution_count": 11,
   "metadata": {},
   "outputs": [],
   "source": [
    "obj_info = missing_info[\"obj_info\"]\n",
    "obj_range = missing_info[\"obj_range\"]"
   ]
  },
  {
   "cell_type": "code",
   "execution_count": 12,
   "metadata": {},
   "outputs": [],
   "source": [
    "columns = missing_info[\"columns\"]"
   ]
  },
  {
   "cell_type": "code",
   "execution_count": 13,
   "metadata": {},
   "outputs": [],
   "source": [
    "cat_2_ord = missing_info[\"cat2ord\"]\n",
    "ord_2_cat = missing_info[\"(ord+1)2cat\"]"
   ]
  },
  {
   "cell_type": "code",
   "execution_count": 14,
   "metadata": {},
   "outputs": [],
   "source": [
    "result = GMiss.show_data(scale= True)\n",
    "Data = result.values"
   ]
  },
  {
   "cell_type": "code",
   "execution_count": 15,
   "metadata": {},
   "outputs": [],
   "source": [
    "cond = missing_info[\"cat_num_idx_info\"]"
   ]
  },
  {
   "cell_type": "code",
   "execution_count": 16,
   "metadata": {},
   "outputs": [],
   "source": [
    "total_col = columns.copy()"
   ]
  },
  {
   "cell_type": "code",
   "execution_count": 17,
   "metadata": {},
   "outputs": [],
   "source": [
    "trainX ,testX ,trainM, testM =   GMiss.train_test_split(train_prob= 0.7 , scale = True ,na_gene = False,save = True)"
   ]
  },
  {
   "cell_type": "code",
   "execution_count": 18,
   "metadata": {},
   "outputs": [],
   "source": [
    "Train_No = len(trainX)"
   ]
  },
  {
   "cell_type": "code",
   "execution_count": 19,
   "metadata": {},
   "outputs": [],
   "source": [
    "missing_data = deepcopy(testX)\n",
    "missing_data[(1-testM) == 1] = np.nan"
   ]
  },
  {
   "cell_type": "code",
   "execution_count": 20,
   "metadata": {},
   "outputs": [],
   "source": [
    "No = len(Data)\n",
    "Dim = len(Data[0,:]) \n",
    "# Hidden state dimensions\n",
    "H_Dim1 = Dim + int(Dim/2)\n",
    "H_Dim2 = Dim + int(Dim/4)"
   ]
  },
  {
   "cell_type": "code",
   "execution_count": 21,
   "metadata": {},
   "outputs": [
    {
     "name": "stdout",
     "output_type": "stream",
     "text": [
      "Tensor(\"Softmax:0\", shape=(?, 51), dtype=float32)\n"
     ]
    },
    {
     "name": "stderr",
     "output_type": "stream",
     "text": [
      "WARNING: Logging before flag parsing goes to stderr.\n",
      "W0918 21:05:26.234832 140079462921984 deprecation.py:323] From /root/anaconda3/lib/python3.6/site-packages/tensorflow/python/ops/math_grad.py:1205: add_dispatch_support.<locals>.wrapper (from tensorflow.python.ops.array_ops) is deprecated and will be removed in a future version.\n",
      "Instructions for updating:\n",
      "Use tf.where in 2.0, which has the same broadcast rule as np.where\n"
     ]
    },
    {
     "name": "stdout",
     "output_type": "stream",
     "text": [
      "list index out of range\n"
     ]
    }
   ],
   "source": [
    "# 1. Xavier Initialization Definition\n",
    "\n",
    "def CatNumEmb(out , cond , batch_size , total_col) :\n",
    "    for idx in range(len(cond)) :\n",
    "        try :\n",
    "            diff = cond[idx+1] - cond[idx] \n",
    "            split = tf.slice(out , \n",
    "                             [0 , cond[idx] ] ,\n",
    "                             [batch_size , cond[idx+1]-cond[idx]] ) # \n",
    "        except Exception as e :            \n",
    "            print(e)\n",
    "            diff = len(total_col) - cond[idx] \n",
    "            split = tf.slice(out , \n",
    "                             [0 , cond[idx] ] ,\n",
    "                             [batch_size , diff ] ) # \n",
    "        if idx == 0 :\n",
    "            if diff == 1 :\n",
    "                first = tf.nn.sigmoid(split)\n",
    "                arg = tf.nn.sigmoid(split)\n",
    "            else :\n",
    "                first = tf.nn.softmax(split)\n",
    "                arg = tf.expand_dims(tf.argmax(first , axis = 1 ) ,\n",
    "                                     axis = 1 )\n",
    "                arg = tf.cast(arg , dtype = tf.float32)\n",
    "                print(first)\n",
    "        else :\n",
    "            if diff == 1 :\n",
    "                not_first = tf.nn.sigmoid(split)\n",
    "                ##\n",
    "                first = tf.concat([first , not_first], axis = 1 )\n",
    "                arg = tf.concat([arg , not_first], axis = 1 )\n",
    "            else :\n",
    "                not_first = tf.nn.softmax(split)\n",
    "                not_first_arg = tf.expand_dims(tf.argmax(first , axis = 1 ,) ,\n",
    "                                     axis = 1 )\n",
    "                not_first_arg = tf.cast(not_first_arg , dtype = tf.float32)\n",
    "                \n",
    "                ##\n",
    "                first = tf.concat([first , not_first], axis = 1 )\n",
    "                arg = tf.concat([arg , not_first_arg], axis = 1 , )\n",
    "    return first , arg\n",
    "\n",
    "\n",
    "def xavier_init(size):\n",
    "    in_dim = size[0]\n",
    "    xavier_stddev = 1. / tf.sqrt(in_dim / 2.)\n",
    "    return tf.random_normal(shape = size, stddev = xavier_stddev)\n",
    "    \n",
    "# Hint Vector Generation\n",
    "def sample_M(m, n, p):\n",
    "    A = np.random.uniform(0., 1., size = [m, n])\n",
    "    B = A > p\n",
    "    C = 1.*B\n",
    "    return C\n",
    "\n",
    "tf.reset_default_graph()\n",
    "X = tf.placeholder(tf.float32, shape = [None, Dim] , name = \"true_data\")\n",
    "New_X = tf.placeholder(tf.float32, shape = [None, Dim] , name = \"missing_data\")\n",
    "M = tf.placeholder(tf.float32, shape = [None, Dim] , name = \"mask_vector\")\n",
    "batch_size = tf.placeholder(tf.int64, name=\"Batchsize\")\n",
    "\n",
    "H_Dim1 = Dim - 10\n",
    "H_Dim2 = H_Dim1 - 10\n",
    "H_Dim3 = H_Dim2 - 10\n",
    "G_W1 = tf.Variable(xavier_init([Dim, H_Dim1]))     # Data + Mask as inputs (Random Noises are in Missing Components)\n",
    "G_b1 = tf.Variable(tf.zeros(shape = [H_Dim1]))\n",
    "\n",
    "G_W2 = tf.Variable(xavier_init([H_Dim1, H_Dim2]))\n",
    "G_b2 = tf.Variable(tf.zeros(shape = [H_Dim2]))\n",
    "\n",
    "G_W3 = tf.Variable(xavier_init([H_Dim2, H_Dim3]))\n",
    "G_b3 = tf.Variable(tf.zeros(shape = [H_Dim3]))\n",
    "theta_G = [G_W1, G_W2, G_W3, G_b1, G_b2, G_b3]\n",
    "\n",
    "D_W1 = tf.Variable(xavier_init([H_Dim3, H_Dim2]))     # Data + Hint as inputs\n",
    "D_b1 = tf.Variable(tf.zeros(shape = [H_Dim2]))\n",
    "\n",
    "D_W2 = tf.Variable(xavier_init([H_Dim2, H_Dim1]))\n",
    "D_b2 = tf.Variable(tf.zeros(shape = [H_Dim1]))\n",
    "\n",
    "D_W3 = tf.Variable(xavier_init([H_Dim1, Dim]))\n",
    "D_b3 = tf.Variable(tf.zeros(shape = [Dim]))       # Output is multi-variate\n",
    "\n",
    "theta_D = [D_W1, D_W2, D_W3, D_b1, D_b2, D_b3]\n",
    "\n",
    "def encoder(x):\n",
    "    G_h1 = tf.nn.relu(tf.matmul(x, G_W1) + G_b1)\n",
    "    G_h2 = tf.nn.relu(tf.matmul(G_h1, G_W2) + G_b2)   \n",
    "    G_prob = tf.nn.sigmoid(tf.matmul(G_h2, G_W3) + G_b3) # [0,1] normalized Output\n",
    "    return G_prob\n",
    "\n",
    "def decoder(x):\n",
    "    D_h1 = tf.nn.relu(tf.matmul(x, D_W1) + D_b1)  \n",
    "    D_h2 = tf.nn.relu(tf.matmul(D_h1, D_W2) + D_b2)\n",
    "    out = tf.matmul(D_h2, D_W3) + D_b3\n",
    "    if obj_col is None :\n",
    "        first = tf.nn.sigmoid(out)\n",
    "        arg = None\n",
    "    else :\n",
    "        first , arg = CatNumEmb(out , cond , batch_size , total_col)\n",
    "    return first , arg\n",
    "\n",
    "def sample_Z(m, n):\n",
    "    return np.random.uniform(0., 1, size = [m, n])    \n",
    "\n",
    "def sample_idx(m, n):\n",
    "    A = np.random.permutation(m)\n",
    "    idx = A[:n]\n",
    "    return idx\n",
    "\n",
    "enc = encoder(New_X)\n",
    "new_x , arg = decoder(enc)\n",
    "\n",
    "Hat_New_X = X * M + new_x * (1-M)\n",
    "Hat_New_X = tf.identity(Hat_New_X , name = \"imputed\")\n",
    "\n",
    "MSE_true_loss = tf.reduce_mean((M * new_x - M * X)**2) / tf.reduce_mean(M)\n",
    "MSE_missing_loss = tf.reduce_mean(((1-M) * new_x - (1-M) * X)**2) / tf.reduce_mean(1-M)\n",
    "Loss = MSE_true_loss + 2*MSE_missing_loss                                                                        \n",
    "solver = tf.train.AdamOptimizer().minimize(Loss, var_list=theta_D + theta_G)"
   ]
  },
  {
   "cell_type": "code",
   "execution_count": 22,
   "metadata": {},
   "outputs": [],
   "source": [
    "sess = tf.Session()\n",
    "sess.run(tf.global_variables_initializer())\n",
    "saver = tf.train.Saver()\n",
    "test_loss = []\n",
    "train_loss = []"
   ]
  },
  {
   "cell_type": "code",
   "execution_count": 23,
   "metadata": {},
   "outputs": [
    {
     "name": "stdout",
     "output_type": "stream",
     "text": [
      "Iter: 49000\n",
      "Total_loss: 0.1869\n",
      "not_Missing_loss: 0.05135\n",
      "Missing_loss: 0.127\n",
      "\n",
      "\n"
     ]
    }
   ],
   "source": [
    "epoch = 50000\n",
    "for it in tqdm_notebook(range(epoch)):    \n",
    "    \n",
    "    #%% Inputs\n",
    "    mb_idx = sample_idx(Train_No, mb_size)\n",
    "    X_mb = trainX[mb_idx,:]  \n",
    "    \n",
    "    Z_mb = sample_Z(mb_size, Dim) \n",
    "    M_mb = trainM[mb_idx,:]  \n",
    "    \n",
    "    New_X_mb = M_mb * X_mb + (1-M_mb) * Z_mb  # Missing Data Introduce\n",
    "    \n",
    "    _, loss_curr , MSE_true_loss_curr , MSE_test_loss_curr  = sess.run([solver, Loss , \n",
    "                                                                   MSE_true_loss , MSE_missing_loss], \n",
    "                                                  feed_dict = {M: M_mb, New_X: New_X_mb, X : X_mb , batch_size : mb_size})\n",
    "    try :\n",
    "        if min(test_loss) > MSE_test_loss_curr :\n",
    "            saver.save(sess, './CAT_AE/Model')\n",
    "    except :\n",
    "        pass\n",
    "    train_loss.append(MSE_true_loss_curr)\n",
    "    test_loss.append(MSE_test_loss_curr)\n",
    "    \n",
    "    #%% Intermediate Losses\n",
    "    if it % 1000 == 0:\n",
    "        clear_output()\n",
    "        print('Iter: {}'.format(it))\n",
    "        print('Total_loss: {:.4}'.format(np.sqrt(loss_curr)))\n",
    "        print('not_Missing_loss: {:.4}'.format(np.sqrt(MSE_true_loss_curr)))\n",
    "        print('Missing_loss: {:.4}'.format(np.sqrt(MSE_test_loss_curr)))\n",
    "        print()\n",
    "        "
   ]
  },
  {
   "cell_type": "code",
   "execution_count": 24,
   "metadata": {},
   "outputs": [
    {
     "data": {
      "image/png": "[encoded data removed]",
      "text/plain": [
       "<Figure size 432x288 with 1 Axes>"
      ]
     },
     "metadata": {
      "needs_background": "light"
     },
     "output_type": "display_data"
    }
   ],
   "source": [
    "\n",
    "plt.plot(np.arange(epoch) , train_loss)\n",
    "plt.plot(np.arange(epoch) , test_loss)\n",
    "plt.show()"
   ]
  },
  {
   "cell_type": "code",
   "execution_count": null,
   "metadata": {},
   "outputs": [],
   "source": []
  }
 ],
 "metadata": {
  "kernelspec": {
   "display_name": "base",
   "language": "python",
   "name": "base"
  },
  "language_info": {
   "codemirror_mode": {
    "name": "ipython",
    "version": 3
   },
   "file_extension": ".py",
   "mimetype": "text/x-python",
   "name": "python",
   "nbconvert_exporter": "python",
   "pygments_lexer": "ipython3",
   "version": "3.6.7"
  }
 },
 "nbformat": 4,
 "nbformat_minor": 2
}
